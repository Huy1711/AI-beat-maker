{
 "cells": [
  {
   "cell_type": "code",
   "execution_count": 2,
   "metadata": {},
   "outputs": [],
   "source": [
    "import os\n",
    "import glob\n"
   ]
  },
  {
   "cell_type": "code",
   "execution_count": 19,
   "metadata": {},
   "outputs": [],
   "source": [
    "dataset_dir = \"../../datasets/neural-audio-fp-dataset\"\n",
    "background_noise_train_list = glob.glob(os.path.join(dataset_dir, \"aug/bg/tr/**/*.wav\"), recursive=True)\n",
    "background_noise_val_list = glob.glob(os.path.join(dataset_dir, \"aug/bg/ts/**/*.wav\"), recursive=True)\n",
    "ir_noise_train_list = glob.glob(os.path.join(dataset_dir, \"aug/ir/tr/**/*.wav\"), recursive=True)\n",
    "ir_noise_val_list = glob.glob(os.path.join(dataset_dir, \"aug/ir/ts/**/*.wav\"), recursive=True)\n",
    "music_train_list = glob.glob(os.path.join(dataset_dir, \"music/train-10k-30s/**/*.wav\"), recursive=True)\n",
    "music_val_list = glob.glob(os.path.join(dataset_dir, \"music/val-query-db-500-30s/**/*.wav\"), recursive=True)"
   ]
  },
  {
   "cell_type": "code",
   "execution_count": 22,
   "metadata": {},
   "outputs": [
    {
     "name": "stdout",
     "output_type": "stream",
     "text": [
      "# train-val background noise: 2142 - 532\n",
      "# train-val ir noise: 345 - 95\n",
      "# train-val music: 10000 - 500\n"
     ]
    }
   ],
   "source": [
    "print(f\"# train-val background noise: {len(background_noise_train_list)} - {len(background_noise_val_list)}\")\n",
    "print(f\"# train-val ir noise: {len(ir_noise_train_list)} - {len(ir_noise_val_list)}\")\n",
    "print(f\"# train-val music: {len(music_train_list)} - {len(music_val_list)}\")"
   ]
  }
 ],
 "metadata": {
  "kernelspec": {
   "display_name": "audiofp",
   "language": "python",
   "name": "python3"
  },
  "language_info": {
   "codemirror_mode": {
    "name": "ipython",
    "version": 3
   },
   "file_extension": ".py",
   "mimetype": "text/x-python",
   "name": "python",
   "nbconvert_exporter": "python",
   "pygments_lexer": "ipython3",
   "version": "3.10.14"
  }
 },
 "nbformat": 4,
 "nbformat_minor": 2
}
