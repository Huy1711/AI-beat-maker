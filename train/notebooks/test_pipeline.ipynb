{
 "cells": [
  {
   "cell_type": "code",
   "execution_count": null,
   "metadata": {},
   "outputs": [],
   "source": [
    "%load_ext autoreload\n",
    "%autoreload 2"
   ]
  },
  {
   "cell_type": "markdown",
   "metadata": {},
   "source": [
    "## Dataset & Dataloader"
   ]
  },
  {
   "cell_type": "code",
   "execution_count": null,
   "metadata": {},
   "outputs": [],
   "source": [
    "import os\n",
    "os.chdir(\"../\")\n",
    "\n",
    "from omegaconf import OmegaConf\n",
    "\n",
    "from neuralfp.data.datasets import MusicSegmentDataset, collate_data\n",
    "from neuralfp.utils.common import load_dataset"
   ]
  },
  {
   "cell_type": "code",
   "execution_count": null,
   "metadata": {},
   "outputs": [],
   "source": [
    "config = \"configs/train.yaml\"\n",
    "config = OmegaConf.load(config)\n",
    "\n",
    "dataset = MusicSegmentDataset(config[\"dataset\"][\"train\"])"
   ]
  },
  {
   "cell_type": "code",
   "execution_count": null,
   "metadata": {},
   "outputs": [],
   "source": [
    "from torch.utils.data import DataLoader\n",
    "\n",
    "dataloader = DataLoader(\n",
    "    dataset=dataset,\n",
    "    collate_fn=collate_data,\n",
    "    shuffle=False,\n",
    "    **config[\"dataset\"][\"loaders\"],\n",
    ")"
   ]
  },
  {
   "cell_type": "code",
   "execution_count": null,
   "metadata": {},
   "outputs": [],
   "source": [
    "# import tqdm\n",
    "\n",
    "# for batch in tqdm.tqdm(dataloader):\n",
    "#     features, targets = batch\n",
    "#     print(features.shape, targets.shape)"
   ]
  },
  {
   "cell_type": "markdown",
   "metadata": {},
   "source": [
    "## Model"
   ]
  },
  {
   "cell_type": "code",
   "execution_count": null,
   "metadata": {},
   "outputs": [],
   "source": [
    "from neuralfp.model.neuralfp import NeuralAudioFingerprinter"
   ]
  },
  {
   "cell_type": "code",
   "execution_count": null,
   "metadata": {},
   "outputs": [],
   "source": [
    "config = \"configs/train.yaml\"\n",
    "config = OmegaConf.load(config)\n",
    "\n",
    "model = NeuralAudioFingerprinter(**config[\"model\"][\"neuralfp\"])"
   ]
  },
  {
   "cell_type": "code",
   "execution_count": null,
   "metadata": {},
   "outputs": [],
   "source": [
    "import tqdm\n",
    "import torch\n",
    "\n",
    "for batch in tqdm.tqdm(dataloader):\n",
    "    features, targets = batch\n",
    "    print(\"features\", features.shape)\n",
    "    xs = torch.stack([features, targets], dim=0)\n",
    "    print(\"xs\", xs.shape)\n",
    "\n",
    "    xs = torch.flatten(xs, 0, 1)\n",
    "    out = model(xs)\n",
    "    print(\"out\", out.shape)\n"
   ]
  },
  {
   "cell_type": "markdown",
   "metadata": {},
   "source": [
    "## Loss function"
   ]
  },
  {
   "cell_type": "code",
   "execution_count": null,
   "metadata": {},
   "outputs": [],
   "source": [
    "from neuralfp.criterion.contrastive_loss import NTxentLoss\n",
    "\n",
    "criterion = NTxentLoss()"
   ]
  },
  {
   "cell_type": "code",
   "execution_count": null,
   "metadata": {},
   "outputs": [],
   "source": [
    "import tqdm\n",
    "import torch\n",
    "\n",
    "for batch in tqdm.tqdm(dataloader):\n",
    "    features, targets = batch\n",
    "    xs = torch.stack([features, targets], dim=0)\n",
    "    xs = torch.flatten(xs, 0, 1)\n",
    "    out = model(xs)\n",
    "    n_anchors = out.shape[0] // 2\n",
    "    print(\"n_anchors\", n_anchors)\n",
    "    loss = criterion(\n",
    "        out[:n_anchors, :], out[n_anchors:, :], n_anchors\n",
    "    )\n",
    "    print(\"loss\", loss)"
   ]
  },
  {
   "cell_type": "markdown",
   "metadata": {},
   "source": [
    "## Load checkpoint"
   ]
  },
  {
   "cell_type": "code",
   "execution_count": null,
   "metadata": {},
   "outputs": [],
   "source": [
    "import torch\n",
    "\n",
    "checkpoint = torch.load(\"/home/huynd/Code/AI-beat-maker/train/artifacts/neuralfp_epoch88.pt\", map_location=\"cpu\")"
   ]
  },
  {
   "cell_type": "code",
   "execution_count": null,
   "metadata": {},
   "outputs": [],
   "source": [
    "checkpoint[\"state_dict\"]"
   ]
  },
  {
   "cell_type": "code",
   "execution_count": null,
   "metadata": {},
   "outputs": [],
   "source": []
  }
 ],
 "metadata": {
  "kernelspec": {
   "display_name": "audiofp",
   "language": "python",
   "name": "python3"
  },
  "language_info": {
   "codemirror_mode": {
    "name": "ipython",
    "version": 3
   },
   "file_extension": ".py",
   "mimetype": "text/x-python",
   "name": "python",
   "nbconvert_exporter": "python",
   "pygments_lexer": "ipython3",
   "version": "3.10.14"
  }
 },
 "nbformat": 4,
 "nbformat_minor": 2
}
