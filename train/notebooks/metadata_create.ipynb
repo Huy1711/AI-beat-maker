{
 "cells": [
  {
   "cell_type": "code",
   "execution_count": 2,
   "metadata": {},
   "outputs": [],
   "source": [
    "import os\n",
    "import glob\n"
   ]
  },
  {
   "cell_type": "code",
   "execution_count": 3,
   "metadata": {},
   "outputs": [],
   "source": [
    "dataset_dir = \"../../datasets/neural-audio-fp-dataset\"\n",
    "background_noise_train_list = glob.glob(os.path.join(dataset_dir, \"aug/bg/tr/**/*.wav\"), recursive=True)\n",
    "background_noise_val_list = glob.glob(os.path.join(dataset_dir, \"aug/bg/ts/**/*.wav\"), recursive=True)\n",
    "ir_noise_train_list = glob.glob(os.path.join(dataset_dir, \"aug/ir/tr/**/*.wav\"), recursive=True)\n",
    "ir_noise_val_list = glob.glob(os.path.join(dataset_dir, \"aug/ir/ts/**/*.wav\"), recursive=True)\n",
    "music_train_list = glob.glob(os.path.join(dataset_dir, \"music/train-10k-30s/**/*.wav\"), recursive=True)\n",
    "music_val_list = glob.glob(os.path.join(dataset_dir, \"music/val-query-db-500-30s/**/*.wav\"), recursive=True)"
   ]
  },
  {
   "cell_type": "code",
   "execution_count": 4,
   "metadata": {},
   "outputs": [
    {
     "name": "stdout",
     "output_type": "stream",
     "text": [
      "# train-val background noise: 2142 - 532\n",
      "# train-val ir noise: 345 - 95\n",
      "# train-val music: 10000 - 500\n"
     ]
    }
   ],
   "source": [
    "print(f\"# train-val background noise: {len(background_noise_train_list)} - {len(background_noise_val_list)}\")\n",
    "print(f\"# train-val ir noise: {len(ir_noise_train_list)} - {len(ir_noise_val_list)}\")\n",
    "print(f\"# train-val music: {len(music_train_list)} - {len(music_val_list)}\")"
   ]
  },
  {
   "cell_type": "code",
   "execution_count": 5,
   "metadata": {},
   "outputs": [],
   "source": [
    "import json\n",
    "\n",
    "def list_audio_to_json(audio_list, json_file):\n",
    "  outfile = open(json_file, \"w\")\n",
    "  for audio in audio_list:\n",
    "    json_object = json.dumps(audio, ensure_ascii=False)\n",
    "    outfile.write(json_object + \"\\n\")\n",
    "  outfile.close()"
   ]
  },
  {
   "cell_type": "code",
   "execution_count": 6,
   "metadata": {},
   "outputs": [],
   "source": [
    "import torchaudio\n",
    "\n",
    "def info_audio(audio_path):\n",
    "    try:\n",
    "        info = torchaudio.info(audio_path)\n",
    "        duration = info.num_frames / info.sample_rate\n",
    "        audio_filepath = \"/\".join(audio_path.split(\"/\")[4:])\n",
    "        dictionary = {\n",
    "            \"audio_filepath\": audio_filepath,\n",
    "            \"duration\": round(duration, 2),\n",
    "            \"sample_rate\": info.sample_rate,\n",
    "            \"num_channels\": info.num_channels,\n",
    "        }\n",
    "        return dictionary\n",
    "    except Exception as e:\n",
    "        return (audio_path, e)"
   ]
  },
  {
   "cell_type": "code",
   "execution_count": 7,
   "metadata": {},
   "outputs": [
    {
     "data": {
      "text/plain": [
       "{'audio_filepath': 'aug/bg/tr/random_noise/pink/475.wav',\n",
       " 'duration': 1.0,\n",
       " 'sample_rate': 8000,\n",
       " 'num_channels': 1}"
      ]
     },
     "execution_count": 7,
     "metadata": {},
     "output_type": "execute_result"
    }
   ],
   "source": [
    "info = info_audio(background_noise_train_list[0])\n",
    "info"
   ]
  },
  {
   "cell_type": "code",
   "execution_count": 10,
   "metadata": {},
   "outputs": [],
   "source": [
    "json_file = \"../metadata/fma_medium/val_split.jsonl\"\n",
    "\n",
    "audio_list = []\n",
    "for audio_file in music_val_list:\n",
    "    info = info_audio(audio_file)\n",
    "    audio_list.append(info)\n",
    "\n",
    "list_audio_to_json(audio_list, json_file)"
   ]
  },
  {
   "cell_type": "code",
   "execution_count": null,
   "metadata": {},
   "outputs": [],
   "source": []
  }
 ],
 "metadata": {
  "kernelspec": {
   "display_name": "audiofp",
   "language": "python",
   "name": "python3"
  },
  "language_info": {
   "codemirror_mode": {
    "name": "ipython",
    "version": 3
   },
   "file_extension": ".py",
   "mimetype": "text/x-python",
   "name": "python",
   "nbconvert_exporter": "python",
   "pygments_lexer": "ipython3",
   "version": "3.10.14"
  }
 },
 "nbformat": 4,
 "nbformat_minor": 2
}
